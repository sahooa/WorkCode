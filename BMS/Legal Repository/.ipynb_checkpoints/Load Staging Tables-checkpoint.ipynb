{
 "cells": [
  {
   "cell_type": "code",
   "execution_count": 50,
   "metadata": {
    "collapsed": true
   },
   "outputs": [],
   "source": [
    "import MySQLdb"
   ]
  },
  {
   "cell_type": "code",
   "execution_count": 51,
   "metadata": {
    "collapsed": false
   },
   "outputs": [],
   "source": [
    "from xlrd import open_workbook"
   ]
  },
  {
   "cell_type": "code",
   "execution_count": 52,
   "metadata": {
    "collapsed": true
   },
   "outputs": [],
   "source": [
    "import time"
   ]
  },
  {
   "cell_type": "code",
   "execution_count": 78,
   "metadata": {
    "collapsed": true
   },
   "outputs": [],
   "source": [
    "import datetime"
   ]
  },
  {
   "cell_type": "code",
   "execution_count": 54,
   "metadata": {
    "collapsed": false
   },
   "outputs": [],
   "source": [
    "db = MySQLdb.connect(host=\"v490721-infocenter-rds-dev.cbuqm0ljpfgq.us-east-1.rds.amazonaws.com\", \n",
    "                     port = 1521,# your host, usually localhost\n",
    "                     user=\"infocenteradmin\",         # your username\n",
    "                     passwd=\"infocenter123\",  # your password\n",
    "                     db=\"eiclegal\") "
   ]
  },
  {
   "cell_type": "code",
   "execution_count": 55,
   "metadata": {
    "collapsed": true
   },
   "outputs": [],
   "source": [
    "target = db.cursor()"
   ]
  },
  {
   "cell_type": "code",
   "execution_count": 69,
   "metadata": {
    "collapsed": false
   },
   "outputs": [
    {
     "data": {
      "text/plain": [
       "0L"
      ]
     },
     "execution_count": 69,
     "metadata": {},
     "output_type": "execute_result"
    }
   ],
   "source": [
    "target.execute(\"TRUNCATE TABLE STG_MEMOTECH_MOI\")"
   ]
  },
  {
   "cell_type": "code",
   "execution_count": 79,
   "metadata": {
    "collapsed": false
   },
   "outputs": [],
   "source": [
    "start_time = time.time()\n",
    "timestamp = datetime.datetime.fromtimestamp(start_time).strftime('%Y-%m-%d %H:%M:%S')"
   ]
  },
  {
   "cell_type": "code",
   "execution_count": 70,
   "metadata": {
    "collapsed": true
   },
   "outputs": [],
   "source": [
    "file_path = \"Data\\MOI.xlsx\""
   ]
  },
  {
   "cell_type": "code",
   "execution_count": 71,
   "metadata": {
    "collapsed": true
   },
   "outputs": [],
   "source": [
    "book = open_workbook(file_path)"
   ]
  },
  {
   "cell_type": "code",
   "execution_count": 72,
   "metadata": {
    "collapsed": true
   },
   "outputs": [],
   "source": [
    "sheet = book.sheet_by_index(0)"
   ]
  },
  {
   "cell_type": "code",
   "execution_count": 73,
   "metadata": {
    "collapsed": false
   },
   "outputs": [
    {
     "name": "stdout",
     "output_type": "stream",
     "text": [
      "<xlrd.book.Book object at 0x00000000074E18D0>\n"
     ]
    }
   ],
   "source": [
    "print book"
   ]
  },
  {
   "cell_type": "code",
   "execution_count": 74,
   "metadata": {
    "collapsed": false
   },
   "outputs": [],
   "source": [
    "first_row = 4\n",
    "last_row = sheet.nrows"
   ]
  },
  {
   "cell_type": "code",
   "execution_count": 75,
   "metadata": {
    "collapsed": false
   },
   "outputs": [
    {
     "name": "stdout",
     "output_type": "stream",
     "text": [
      "12\n"
     ]
    }
   ],
   "source": [
    "print last_row"
   ]
  },
  {
   "cell_type": "code",
   "execution_count": 80,
   "metadata": {
    "collapsed": false
   },
   "outputs": [
    {
     "name": "stderr",
     "output_type": "stream",
     "text": [
      "C:\\Users\\sahooa3\\AppData\\Local\\Continuum\\Anaconda2\\lib\\site-packages\\ipykernel\\__main__.py:21: Warning: Out of range value for column 'SYS_UPDT_TS' at row 1\n"
     ]
    },
    {
     "name": "stdout",
     "output_type": "stream",
     "text": [
      "12345.0 PETERS Open OPEN MOI - TO BE PRIORITIZED 42763.0 ABCDEFG XYZ BIOTECH  BIOLOGICS DISCOVERY CALIFORNIA LAWRENCEVILLE BIOPHARMACEUTICAL ABC XYZABC XYZABC XYZABC XYZABC XYZABC XYZABC XYZABC XYZ PETERS, WILLIAM None 2017-09-18 13:48:55 infocenteradmin None None Memotech\n",
      "12346.0 PETERS MOI FILED FILED 42764.0 ABCDEFG XYZ ONCOLOGY  BIOLOGICS DISCOVERY CALIFORNIA LAWRENCEVILLE BIOPHARMACEUTICAL ABC XYZABC XYZABC XYZABC XYZABC XYZABC XYZABC XYZABC XYZ PETERS, WILLIAM None 2017-09-18 13:48:55 infocenteradmin None None Memotech\n",
      "12347.0 PETERS Open OPEN MOI - HIGH PRIORITY 42765.0 ABCDEFG XYZ BIOTECH: PLATFORM  BIOLOGICS DISCOVERY CALIFORNIA LAWRENCEVILLE BIOPHARMACEUTICAL ABC XYZABC XYZABC XYZABC XYZABC XYZABC XYZABC XYZABC XYZ PETERS, WILLIAM None 2017-09-18 13:48:55 infocenteradmin None None Memotech\n",
      "12348.0 PETERS Open OPEN MOI - TO BE PRIORITIZED 42766.0 ABCDEFG XYZ METABOLICS  LAWRENCEVILLE BIOLOGICS DISCOVERY CALIFORNIA BIOPHARMACEUTICAL ABC XYZABC XYZABC XYZABC XYZABC XYZABC XYZABC XYZABC XYZ PETERS, WILLIAM None 2017-09-18 13:48:55 infocenteradmin None None Memotech\n",
      "12349.0 PETERS Open OPEN MOI - TO BE PRIORITIZED 42767.0 ABCDEFG XYZ CARDIOVASCULAR  LAWRENCEVILLE BIOLOGICS DISCOVERY CALIFORNIA BIOPHARMACEUTICAL ABC XYZABC XYZABC XYZABC XYZABC XYZABC XYZABC XYZABC XYZ PETERS, WILLIAM None 2017-09-18 13:48:55 infocenteradmin None None Memotech\n",
      "12350.0 PETERS Open OPEN MOI - TO BE PRIORITIZED 42768.0 ABCDEFG XYZ IMMUNOLOGY  LAWRENCEVILLE BIOLOGICS DISCOVERY CALIFORNIA BIOPHARMACEUTICAL ABC XYZABC XYZABC XYZABC XYZABC XYZABC XYZABC XYZABC XYZ PETERS, WILLIAM None 2017-09-18 13:48:55 infocenteradmin None None Memotech\n",
      "12351.0 PETERS Open OPEN MOI - HIGH PRIORITY 42769.0 ABCDEFG XYZ OTHER  LAWRENCEVILLE BIOLOGICS DISCOVERY CALIFORNIA BIOPHARMACEUTICAL ABC XYZABC XYZABC XYZABC XYZABC XYZABC XYZABC XYZABC XYZ PETERS, WILLIAM None 2017-09-18 13:48:55 infocenteradmin None None Memotech\n",
      "12352.0 PETERS Open OPEN MOI - STANDARD PRIORITY 42770.0 ABCDEFG XYZ BIOTECH: ONCOLOGY  BIOLOGICS DISCOVERY CALIFORNIA BIOLOGICS DISCOVERY CALIFORNIA BIOPHARMACEUTICAL ABC XYZABC XYZABC XYZABC XYZABC XYZABC XYZABC XYZABC XYZ PETERS, WILLIAM None 2017-09-18 13:48:55 infocenteradmin None None Memotech\n"
     ]
    }
   ],
   "source": [
    "for row in xrange(first_row,last_row):\n",
    "    MOI_NUM = sheet.cell_value(row,0)\n",
    "    ATTORNEY_NM = sheet.cell_value(row,1)\n",
    "    MOI_REC_STA_TXT = sheet.cell_value(row,2)\n",
    "    MOI_STA_TXT = sheet.cell_value(row,3)\n",
    "    MOI_OPEN_DT = sheet.cell_value(row,4)\n",
    "    PGM_NM = sheet.cell_value(row,5)\n",
    "    THER_AREA_NM = sheet.cell_value(row,6)\n",
    "    ORGL_IP_SITE_NM = sheet.cell_value(row,7)\n",
    "    IP_SITE_NM = sheet.cell_value(row,8)\n",
    "    RSH_CNTR_NM = sheet.cell_value(row,9)\n",
    "    DIV_TXT = sheet.cell_value(row,10)\n",
    "    TITL_TXT = sheet.cell_value(row,11)\n",
    "    IVNTR_LIST_TXT = sheet.cell_value(row,12)\n",
    "    SYS_NTRL_KEY = None\n",
    "    SYS_INRT_TS = timestamp\n",
    "    SYS_INRT_BY = 'infocenteradmin'\n",
    "    SYS_UPDT_TS = None\n",
    "    SYS_UPDT_BY = None\n",
    "    SYS_SRC_NM = 'Memotech'\n",
    "    target.execute(\"Insert into STG_MEMOTECH_MOI \\\n",
    "    (MOI_NUM, ATTORNEY_NM, MOI_REC_STA_TXT, MOI_STA_TXT, MOI_OPEN_DT, PGM_NM, THER_AREA_NM, ORGL_IP_SITE_NM, IP_SITE_NM, RSH_CNTR_NM, DIV_TXT, TITL_TXT, IVNTR_LIST_TXT, SYS_NTRL_KEY, SYS_INRT_TS, SYS_INRT_BY, SYS_UPDT_TS, SYS_UPDT_BY, SYS_SRC_NM)\\\n",
    "    VALUES \\\n",
    "    ('%s','%s','%s','%s','%s','%s','%s','%s','%s','%s','%s','%s','%s','%s','%s','%s','%s','%s','%s')\"\\\n",
    "    %(MOI_NUM, ATTORNEY_NM, MOI_REC_STA_TXT, MOI_STA_TXT, MOI_OPEN_DT, PGM_NM, THER_AREA_NM, ORGL_IP_SITE_NM, IP_SITE_NM, RSH_CNTR_NM, DIV_TXT, TITL_TXT, IVNTR_LIST_TXT, SYS_NTRL_KEY, SYS_INRT_TS, SYS_INRT_BY, SYS_UPDT_TS, SYS_UPDT_BY, SYS_SRC_NM))\n",
    "    db.commit()\n",
    "    print MOI_NUM, ATTORNEY_NM, MOI_REC_STA_TXT, MOI_STA_TXT, MOI_OPEN_DT, PGM_NM, THER_AREA_NM, ORGL_IP_SITE_NM, IP_SITE_NM, RSH_CNTR_NM, DIV_TXT, TITL_TXT, IVNTR_LIST_TXT,SYS_NTRL_KEY, SYS_INRT_TS, SYS_INRT_BY, SYS_UPDT_TS, SYS_UPDT_BY, SYS_SRC_NM"
   ]
  },
  {
   "cell_type": "code",
   "execution_count": 67,
   "metadata": {
    "collapsed": true
   },
   "outputs": [],
   "source": [
    "db.commit()"
   ]
  },
  {
   "cell_type": "code",
   "execution_count": 24,
   "metadata": {
    "collapsed": false
   },
   "outputs": [
    {
     "name": "stdout",
     "output_type": "stream",
     "text": [
      "12352.0 12\n"
     ]
    }
   ],
   "source": [
    "print D1,d2"
   ]
  },
  {
   "cell_type": "code",
   "execution_count": null,
   "metadata": {
    "collapsed": true
   },
   "outputs": [],
   "source": []
  }
 ],
 "metadata": {
  "kernelspec": {
   "display_name": "Python 2",
   "language": "python",
   "name": "python2"
  },
  "language_info": {
   "codemirror_mode": {
    "name": "ipython",
    "version": 2
   },
   "file_extension": ".py",
   "mimetype": "text/x-python",
   "name": "python",
   "nbconvert_exporter": "python",
   "pygments_lexer": "ipython2",
   "version": "2.7.13"
  }
 },
 "nbformat": 4,
 "nbformat_minor": 2
}
