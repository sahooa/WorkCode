{
 "cells": [
  {
   "cell_type": "code",
   "execution_count": 171,
   "metadata": {
    "collapsed": true
   },
   "outputs": [],
   "source": [
    "import MySQLdb"
   ]
  },
  {
   "cell_type": "code",
   "execution_count": 183,
   "metadata": {
    "collapsed": false
   },
   "outputs": [],
   "source": [
    "db = MySQLdb.connect(host=\"v490721-infocenter-rds-dev.cbuqm0ljpfgq.us-east-1.rds.amazonaws.com\", \n",
    "                     port = 1521,# your host, usually localhost\n",
    "                     user=\"infocenteradmin\",         # your username\n",
    "                     passwd=\"infocenter123\",  # your password\n",
    "                     db=\"eiclegal\")  "
   ]
  },
  {
   "cell_type": "code",
   "execution_count": 197,
   "metadata": {
    "collapsed": false
   },
   "outputs": [
    {
     "data": {
      "text/plain": [
       "0L"
      ]
     },
     "execution_count": 197,
     "metadata": {},
     "output_type": "execute_result"
    }
   ],
   "source": [
    "target = db.cursor()\n",
    "target.execute(\"TRUNCATE TABLE TIME_MTRX\")"
   ]
  },
  {
   "cell_type": "code",
   "execution_count": 198,
   "metadata": {
    "collapsed": false
   },
   "outputs": [],
   "source": [
    "import csv"
   ]
  },
  {
   "cell_type": "code",
   "execution_count": 199,
   "metadata": {
    "collapsed": false
   },
   "outputs": [
    {
     "name": "stdout",
     "output_type": "stream",
     "text": [
      "Corporate Governance/Securities  9999999 Treasurer-NJ (9990703) 9999 : ABCXYZ : 2017 : Q1  $9,999.00  Open \n",
      "Corporate Governance/Securities  9999999 Treasurer-NJ (9990703) 9999 : ABCXYZ : 2017 : Q1  $(9,999.00) Open \n",
      "Corporate Governance/Securities  9999999 Treasurer-NJ (9990703) 9999 : ABCXYZ : 2017 : Q1  $9,999.00  Open \n",
      "Corporate Governance/Securities  9999999 Treasurer-NJ (9990703) 9999 : ABCXYZ : 2017 : Q1  $9,999.00  Open Specialty\n",
      "Done\n"
     ]
    }
   ],
   "source": [
    "with open('Data/TyM.csv','rb') as csvfile:\n",
    "    reader = csv.reader(csvfile, delimiter = ',')\n",
    "    firstLine = True\n",
    "    for row in reader:\n",
    "        if firstLine:\n",
    "            firstLine = False\n",
    "            continue\n",
    "        target.execute (\"Insert into TIME_MTRX(Work_Area_Level_2_0,Work_Area,GL_Account_Number,vWBS_Element,Work_Area_Path,Matter_Type,Responsible_Professional,WBS_Code,WBS_Description,Work_Area_1,Work_Area_Level_2_1,Therapeutic_Area,Matter_Type_1,Region,Country,Matter_Name,Matter_No,Product_Program,Invoice_Processing_Date,Invoice_Status_Date,Company_and_Contact_Name,Invoice_No,System_ID,Invoice_Status,Invoice_Start_Date,Invoice_End_Date,Invoice_Date,Year,Quarter,Year_Quarter,Fin_Dep_Dy_WBS_Prefix,Fin_Dep_Dy_Cost_Center,Cost_Center_Name,Vendor_Quarter_For_Matter,Inv_Alloc_Net_Fees,Matter_Status,Law_Firm_Category) VALUES ('%s','%s','%s','%s','%s','%s','%s','%s','%s','%s','%s','%s','%s','%s','%s','%s','%s','%s','%s','%s','%s','%s','%s','%s','%s','%s','%s','%s','%s','%s','%s','%s','%s','%s','%s','%s','%s')\" %(row[0],row[1],row[2],row[3],row[4],row[5],row[6],row[7],row[8],row[9],row[10],row[11],row[12],row[13],row[14],row[15],row[16],row[17],row[18],row[19],row[20],row[21],row[22],row[23],row[24],row[25],row[26],row[27],row[28],row[29],row[30],row[31],row[32],row[33],row[34],row[35],row[36]))\n",
    "    db.commit()\n",
    "    print \"Done\"\n",
    "\n",
    "\n",
    "        "
   ]
  },
  {
   "cell_type": "code",
   "execution_count": null,
   "metadata": {
    "collapsed": true
   },
   "outputs": [],
   "source": [
    "tmx = "
   ]
  }
 ],
 "metadata": {
  "kernelspec": {
   "display_name": "Python 2",
   "language": "python",
   "name": "python2"
  },
  "language_info": {
   "codemirror_mode": {
    "name": "ipython",
    "version": 2
   },
   "file_extension": ".py",
   "mimetype": "text/x-python",
   "name": "python",
   "nbconvert_exporter": "python",
   "pygments_lexer": "ipython2",
   "version": "2.7.13"
  }
 },
 "nbformat": 4,
 "nbformat_minor": 2
}
